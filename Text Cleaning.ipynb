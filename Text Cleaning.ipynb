{
 "cells": [
  {
   "cell_type": "code",
   "execution_count": 1,
   "metadata": {},
   "outputs": [],
   "source": [
    "import pandas as pd\n",
    "import numpy as np"
   ]
  },
  {
   "cell_type": "code",
   "execution_count": 2,
   "metadata": {},
   "outputs": [],
   "source": [
    "df = pd.read_csv('datasets/Worldometers_data.csv')"
   ]
  },
  {
   "cell_type": "code",
   "execution_count": 43,
   "metadata": {
    "scrolled": false
   },
   "outputs": [
    {
     "data": {
      "text/html": [
       "<div>\n",
       "<style scoped>\n",
       "    .dataframe tbody tr th:only-of-type {\n",
       "        vertical-align: middle;\n",
       "    }\n",
       "\n",
       "    .dataframe tbody tr th {\n",
       "        vertical-align: top;\n",
       "    }\n",
       "\n",
       "    .dataframe thead th {\n",
       "        text-align: right;\n",
       "    }\n",
       "</style>\n",
       "<table border=\"1\" class=\"dataframe\">\n",
       "  <thead>\n",
       "    <tr style=\"text-align: right;\">\n",
       "      <th></th>\n",
       "      <th>Country</th>\n",
       "      <th>Total_Cases</th>\n",
       "      <th>New_Cases</th>\n",
       "      <th>Total_Deaths</th>\n",
       "      <th>New_Deaths</th>\n",
       "      <th>Recovered</th>\n",
       "      <th>Active</th>\n",
       "      <th>Serious_Critical</th>\n",
       "      <th>Tot Cases/1M pop</th>\n",
       "      <th>Deaths/1 M pop</th>\n",
       "      <th>Tests</th>\n",
       "      <th>Tests/1Mpop</th>\n",
       "    </tr>\n",
       "  </thead>\n",
       "  <tbody>\n",
       "    <tr>\n",
       "      <th>121</th>\n",
       "      <td>Djibouti</td>\n",
       "      <td>135</td>\n",
       "      <td>0</td>\n",
       "      <td>0</td>\n",
       "      <td>0</td>\n",
       "      <td>25</td>\n",
       "      <td>110</td>\n",
       "      <td>0</td>\n",
       "      <td>137</td>\n",
       "      <td>0</td>\n",
       "      <td>3106</td>\n",
       "      <td>3144</td>\n",
       "    </tr>\n",
       "    <tr>\n",
       "      <th>17</th>\n",
       "      <td>Russia</td>\n",
       "      <td>10131</td>\n",
       "      <td>1459</td>\n",
       "      <td>76</td>\n",
       "      <td>13</td>\n",
       "      <td>698</td>\n",
       "      <td>9357</td>\n",
       "      <td>8</td>\n",
       "      <td>69</td>\n",
       "      <td>0.5</td>\n",
       "      <td>1004719</td>\n",
       "      <td>6885</td>\n",
       "    </tr>\n",
       "    <tr>\n",
       "      <th>10</th>\n",
       "      <td>Switzerland</td>\n",
       "      <td>24046</td>\n",
       "      <td>766</td>\n",
       "      <td>948</td>\n",
       "      <td>53</td>\n",
       "      <td>10600</td>\n",
       "      <td>12498</td>\n",
       "      <td>386</td>\n",
       "      <td>2778</td>\n",
       "      <td>110</td>\n",
       "      <td>178500</td>\n",
       "      <td>20625</td>\n",
       "    </tr>\n",
       "    <tr>\n",
       "      <th>85</th>\n",
       "      <td>Afghanistan</td>\n",
       "      <td>484</td>\n",
       "      <td>40</td>\n",
       "      <td>15</td>\n",
       "      <td>1</td>\n",
       "      <td>32</td>\n",
       "      <td>437</td>\n",
       "      <td>0</td>\n",
       "      <td>12</td>\n",
       "      <td>0.4</td>\n",
       "      <td>0</td>\n",
       "      <td>0</td>\n",
       "    </tr>\n",
       "    <tr>\n",
       "      <th>138</th>\n",
       "      <td>Congo</td>\n",
       "      <td>60</td>\n",
       "      <td>15</td>\n",
       "      <td>5</td>\n",
       "      <td>0</td>\n",
       "      <td>5</td>\n",
       "      <td>50</td>\n",
       "      <td>0</td>\n",
       "      <td>11</td>\n",
       "      <td>0.9</td>\n",
       "      <td>0</td>\n",
       "      <td>0</td>\n",
       "    </tr>\n",
       "    <tr>\n",
       "      <th>16</th>\n",
       "      <td>S. Korea</td>\n",
       "      <td>10423</td>\n",
       "      <td>39</td>\n",
       "      <td>204</td>\n",
       "      <td>4</td>\n",
       "      <td>6973</td>\n",
       "      <td>3246</td>\n",
       "      <td>55</td>\n",
       "      <td>203</td>\n",
       "      <td>4</td>\n",
       "      <td>477304</td>\n",
       "      <td>9310</td>\n",
       "    </tr>\n",
       "    <tr>\n",
       "      <th>149</th>\n",
       "      <td>Guinea-Bissau</td>\n",
       "      <td>36</td>\n",
       "      <td>3</td>\n",
       "      <td>0</td>\n",
       "      <td>0</td>\n",
       "      <td>0</td>\n",
       "      <td>36</td>\n",
       "      <td>0</td>\n",
       "      <td>18</td>\n",
       "      <td>0</td>\n",
       "      <td>1500</td>\n",
       "      <td>762</td>\n",
       "    </tr>\n",
       "    <tr>\n",
       "      <th>155</th>\n",
       "      <td>Benin</td>\n",
       "      <td>26</td>\n",
       "      <td>0</td>\n",
       "      <td>1</td>\n",
       "      <td>0</td>\n",
       "      <td>5</td>\n",
       "      <td>20</td>\n",
       "      <td>0</td>\n",
       "      <td>2</td>\n",
       "      <td>0.08</td>\n",
       "      <td>0</td>\n",
       "      <td>0</td>\n",
       "    </tr>\n",
       "    <tr>\n",
       "      <th>99</th>\n",
       "      <td>Mauritius</td>\n",
       "      <td>314</td>\n",
       "      <td>41</td>\n",
       "      <td>7</td>\n",
       "      <td>0</td>\n",
       "      <td>23</td>\n",
       "      <td>284</td>\n",
       "      <td>3</td>\n",
       "      <td>247</td>\n",
       "      <td>6</td>\n",
       "      <td>4913</td>\n",
       "      <td>3863</td>\n",
       "    </tr>\n",
       "    <tr>\n",
       "      <th>13</th>\n",
       "      <td>Brazil</td>\n",
       "      <td>16474</td>\n",
       "      <td>286</td>\n",
       "      <td>839</td>\n",
       "      <td>19</td>\n",
       "      <td>173</td>\n",
       "      <td>15462</td>\n",
       "      <td>296</td>\n",
       "      <td>78</td>\n",
       "      <td>4</td>\n",
       "      <td>63000</td>\n",
       "      <td>296</td>\n",
       "    </tr>\n",
       "  </tbody>\n",
       "</table>\n",
       "</div>"
      ],
      "text/plain": [
       "           Country Total_Cases New_Cases Total_Deaths New_Deaths Recovered  \\\n",
       "121       Djibouti         135         0            0          0        25   \n",
       "17          Russia       10131      1459           76         13       698   \n",
       "10     Switzerland       24046       766          948         53     10600   \n",
       "85     Afghanistan         484        40           15          1        32   \n",
       "138          Congo          60        15            5          0         5   \n",
       "16        S. Korea       10423        39          204          4      6973   \n",
       "149  Guinea-Bissau          36         3            0          0         0   \n",
       "155          Benin          26         0            1          0         5   \n",
       "99       Mauritius         314        41            7          0        23   \n",
       "13          Brazil       16474       286          839         19       173   \n",
       "\n",
       "    Active Serious_Critical Tot Cases/1M pop Deaths/1 M pop    Tests  \\\n",
       "121    110                0              137              0     3106   \n",
       "17    9357                8               69            0.5  1004719   \n",
       "10   12498              386             2778            110   178500   \n",
       "85     437                0               12            0.4        0   \n",
       "138     50                0               11            0.9        0   \n",
       "16    3246               55              203              4   477304   \n",
       "149     36                0               18              0     1500   \n",
       "155     20                0                2           0.08        0   \n",
       "99     284                3              247              6     4913   \n",
       "13   15462              296               78              4    63000   \n",
       "\n",
       "    Tests/1Mpop  \n",
       "121        3144  \n",
       "17         6885  \n",
       "10        20625  \n",
       "85            0  \n",
       "138           0  \n",
       "16         9310  \n",
       "149         762  \n",
       "155           0  \n",
       "99         3863  \n",
       "13          296  "
      ]
     },
     "execution_count": 43,
     "metadata": {},
     "output_type": "execute_result"
    }
   ],
   "source": [
    "df.sample(10)"
   ]
  },
  {
   "cell_type": "code",
   "execution_count": 47,
   "metadata": {
    "scrolled": false
   },
   "outputs": [
    {
     "name": "stdout",
     "output_type": "stream",
     "text": [
      "<class 'pandas.core.frame.DataFrame'>\n",
      "RangeIndex: 211 entries, 0 to 210\n",
      "Data columns (total 12 columns):\n",
      " #   Column            Non-Null Count  Dtype  \n",
      "---  ------            --------------  -----  \n",
      " 0   Country           211 non-null    object \n",
      " 1   Total_Cases       211 non-null    float64\n",
      " 2   New_Cases         211 non-null    float64\n",
      " 3   Total_Deaths      211 non-null    float64\n",
      " 4   New_Deaths        211 non-null    float64\n",
      " 5   Recovered         211 non-null    float64\n",
      " 6   Active            211 non-null    float64\n",
      " 7   Serious_Critical  211 non-null    float64\n",
      " 8   Tot Cases/1M pop  211 non-null    float64\n",
      " 9   Deaths/1 M pop    211 non-null    float64\n",
      " 10  Tests             211 non-null    float64\n",
      " 11  Tests/1Mpop       211 non-null    float64\n",
      "dtypes: float64(11), object(1)\n",
      "memory usage: 19.9+ KB\n"
     ]
    }
   ],
   "source": [
    "df.info()"
   ]
  },
  {
   "cell_type": "code",
   "execution_count": 9,
   "metadata": {},
   "outputs": [],
   "source": [
    "df.fillna('0', inplace=True)"
   ]
  },
  {
   "cell_type": "code",
   "execution_count": 39,
   "metadata": {
    "scrolled": true
   },
   "outputs": [],
   "source": [
    "columns = df.columns[1 :]\n",
    "for col in columns:\n",
    "    df[col] = df[col].str.replace(',', '')"
   ]
  },
  {
   "cell_type": "code",
   "execution_count": 38,
   "metadata": {
    "scrolled": true
   },
   "outputs": [
    {
     "data": {
      "text/plain": [
       "Index(['Total_Cases', 'New_Cases', 'Total_Deaths', 'New_Deaths', 'Recovered',\n",
       "       'Active', 'Serious_Critical', 'Tot Cases/1M pop', 'Deaths/1 M pop',\n",
       "       'Tests', 'Tests/1Mpop'],\n",
       "      dtype='object')"
      ]
     },
     "execution_count": 38,
     "metadata": {},
     "output_type": "execute_result"
    }
   ],
   "source": [
    "columns"
   ]
  },
  {
   "cell_type": "code",
   "execution_count": 19,
   "metadata": {},
   "outputs": [
    {
     "name": "stdout",
     "output_type": "stream",
     "text": [
      "Help on method_descriptor:\n",
      "\n",
      "replace(self, old, new, count=-1, /)\n",
      "    Return a copy with all occurrences of substring old replaced by new.\n",
      "    \n",
      "      count\n",
      "        Maximum number of occurrences to replace.\n",
      "        -1 (the default value) means replace all occurrences.\n",
      "    \n",
      "    If the optional argument count is given, only the first count occurrences are\n",
      "    replaced.\n",
      "\n"
     ]
    }
   ],
   "source": [
    "help(str.replace)"
   ]
  },
  {
   "cell_type": "code",
   "execution_count": 46,
   "metadata": {},
   "outputs": [],
   "source": [
    "for col in columns:\n",
    "    df[col] = df[col].astype(float)"
   ]
  },
  {
   "cell_type": "code",
   "execution_count": 45,
   "metadata": {
    "collapsed": true
   },
   "outputs": [
    {
     "name": "stdout",
     "output_type": "stream",
     "text": [
      "Help on method astype in module pandas.core.generic:\n",
      "\n",
      "astype(dtype, copy: bool = True, errors: str = 'raise') -> ~FrameOrSeries method of pandas.core.frame.DataFrame instance\n",
      "    Cast a pandas object to a specified dtype ``dtype``.\n",
      "    \n",
      "    Parameters\n",
      "    ----------\n",
      "    dtype : data type, or dict of column name -> data type\n",
      "        Use a numpy.dtype or Python type to cast entire pandas object to\n",
      "        the same type. Alternatively, use {col: dtype, ...}, where col is a\n",
      "        column label and dtype is a numpy.dtype or Python type to cast one\n",
      "        or more of the DataFrame's columns to column-specific types.\n",
      "    copy : bool, default True\n",
      "        Return a copy when ``copy=True`` (be very careful setting\n",
      "        ``copy=False`` as changes to values then may propagate to other\n",
      "        pandas objects).\n",
      "    errors : {'raise', 'ignore'}, default 'raise'\n",
      "        Control raising of exceptions on invalid data for provided dtype.\n",
      "    \n",
      "        - ``raise`` : allow exceptions to be raised\n",
      "        - ``ignore`` : suppress exceptions. On error return original object.\n",
      "    \n",
      "    Returns\n",
      "    -------\n",
      "    casted : same type as caller\n",
      "    \n",
      "    See Also\n",
      "    --------\n",
      "    to_datetime : Convert argument to datetime.\n",
      "    to_timedelta : Convert argument to timedelta.\n",
      "    to_numeric : Convert argument to a numeric type.\n",
      "    numpy.ndarray.astype : Cast a numpy array to a specified type.\n",
      "    \n",
      "    Examples\n",
      "    --------\n",
      "    Create a DataFrame:\n",
      "    \n",
      "    >>> d = {'col1': [1, 2], 'col2': [3, 4]}\n",
      "    >>> df = pd.DataFrame(data=d)\n",
      "    >>> df.dtypes\n",
      "    col1    int64\n",
      "    col2    int64\n",
      "    dtype: object\n",
      "    \n",
      "    Cast all columns to int32:\n",
      "    \n",
      "    >>> df.astype('int32').dtypes\n",
      "    col1    int32\n",
      "    col2    int32\n",
      "    dtype: object\n",
      "    \n",
      "    Cast col1 to int32 using a dictionary:\n",
      "    \n",
      "    >>> df.astype({'col1': 'int32'}).dtypes\n",
      "    col1    int32\n",
      "    col2    int64\n",
      "    dtype: object\n",
      "    \n",
      "    Create a series:\n",
      "    \n",
      "    >>> ser = pd.Series([1, 2], dtype='int32')\n",
      "    >>> ser\n",
      "    0    1\n",
      "    1    2\n",
      "    dtype: int32\n",
      "    >>> ser.astype('int64')\n",
      "    0    1\n",
      "    1    2\n",
      "    dtype: int64\n",
      "    \n",
      "    Convert to categorical type:\n",
      "    \n",
      "    >>> ser.astype('category')\n",
      "    0    1\n",
      "    1    2\n",
      "    dtype: category\n",
      "    Categories (2, int64): [1, 2]\n",
      "    \n",
      "    Convert to ordered categorical type with custom ordering:\n",
      "    \n",
      "    >>> cat_dtype = pd.api.types.CategoricalDtype(\n",
      "    ...     categories=[2, 1], ordered=True)\n",
      "    >>> ser.astype(cat_dtype)\n",
      "    0    1\n",
      "    1    2\n",
      "    dtype: category\n",
      "    Categories (2, int64): [2 < 1]\n",
      "    \n",
      "    Note that using ``copy=False`` and changing data on a new\n",
      "    pandas object may propagate changes:\n",
      "    \n",
      "    >>> s1 = pd.Series([1, 2])\n",
      "    >>> s2 = s1.astype('int64', copy=False)\n",
      "    >>> s2[0] = 10\n",
      "    >>> s1  # note that s1[0] has changed too\n",
      "    0    10\n",
      "    1     2\n",
      "    dtype: int64\n",
      "\n"
     ]
    }
   ],
   "source": [
    "help(df.astype)"
   ]
  },
  {
   "cell_type": "code",
   "execution_count": 48,
   "metadata": {},
   "outputs": [
    {
     "data": {
      "text/plain": [
       "93617.0"
      ]
     },
     "execution_count": 48,
     "metadata": {},
     "output_type": "execute_result"
    }
   ],
   "source": [
    "df['Total_Deaths'].sum()"
   ]
  },
  {
   "cell_type": "code",
   "execution_count": 49,
   "metadata": {},
   "outputs": [
    {
     "name": "stdout",
     "output_type": "stream",
     "text": [
      "16570380.27\n"
     ]
    }
   ],
   "source": [
    "total = 0\n",
    "for col in columns:\n",
    "    total += df[col].sum()\n",
    "print(total)"
   ]
  },
  {
   "cell_type": "code",
   "execution_count": null,
   "metadata": {},
   "outputs": [],
   "source": []
  }
 ],
 "metadata": {
  "kernelspec": {
   "display_name": "Python 3",
   "language": "python",
   "name": "python3"
  },
  "language_info": {
   "codemirror_mode": {
    "name": "ipython",
    "version": 3
   },
   "file_extension": ".py",
   "mimetype": "text/x-python",
   "name": "python",
   "nbconvert_exporter": "python",
   "pygments_lexer": "ipython3",
   "version": "3.7.6"
  }
 },
 "nbformat": 4,
 "nbformat_minor": 4
}
