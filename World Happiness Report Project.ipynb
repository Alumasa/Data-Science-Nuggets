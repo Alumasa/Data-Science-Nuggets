{
 "cells": [
  {
   "cell_type": "code",
   "execution_count": 55,
   "metadata": {},
   "outputs": [],
   "source": [
    "import numpy as np\n",
    "import pandas as pd\n",
    "\n",
    "import matplotlib.pyplot as plt\n",
    "\n",
    "import warnings\n",
    "warnings.filterwarnings('ignore')\n",
    "\n",
    "%matplotlib inline"
   ]
  },
  {
   "cell_type": "code",
   "execution_count": 56,
   "metadata": {},
   "outputs": [],
   "source": [
    "whr_15 = pd.read_csv('datasets/2015.csv')\n",
    "whr_16 = pd.read_csv('datasets/2016.csv')\n",
    "whr_17 = pd.read_csv('datasets/2017.csv')\n",
    "whr_18 = pd.read_csv('datasets/2018.csv')\n",
    "whr_19 = pd.read_csv('datasets/2019.csv')"
   ]
  },
  {
   "cell_type": "code",
   "execution_count": 57,
   "metadata": {
    "scrolled": false
   },
   "outputs": [
    {
     "name": "stdout",
     "output_type": "stream",
     "text": [
      "<class 'pandas.core.frame.DataFrame'>\n",
      "RangeIndex: 158 entries, 0 to 157\n",
      "Data columns (total 12 columns):\n",
      " #   Column                         Non-Null Count  Dtype  \n",
      "---  ------                         --------------  -----  \n",
      " 0   Country                        158 non-null    object \n",
      " 1   Region                         158 non-null    object \n",
      " 2   Happiness Rank                 158 non-null    int64  \n",
      " 3   Happiness Score                158 non-null    float64\n",
      " 4   Standard Error                 158 non-null    float64\n",
      " 5   Economy (GDP per Capita)       158 non-null    float64\n",
      " 6   Family                         158 non-null    float64\n",
      " 7   Health (Life Expectancy)       158 non-null    float64\n",
      " 8   Freedom                        158 non-null    float64\n",
      " 9   Trust (Government Corruption)  158 non-null    float64\n",
      " 10  Generosity                     158 non-null    float64\n",
      " 11  Dystopia Residual              158 non-null    float64\n",
      "dtypes: float64(9), int64(1), object(2)\n",
      "memory usage: 14.9+ KB\n"
     ]
    }
   ],
   "source": [
    "whr_15.info()"
   ]
  },
  {
   "cell_type": "code",
   "execution_count": 58,
   "metadata": {
    "scrolled": false
   },
   "outputs": [
    {
     "name": "stdout",
     "output_type": "stream",
     "text": [
      "<class 'pandas.core.frame.DataFrame'>\n",
      "RangeIndex: 157 entries, 0 to 156\n",
      "Data columns (total 13 columns):\n",
      " #   Column                         Non-Null Count  Dtype  \n",
      "---  ------                         --------------  -----  \n",
      " 0   Country                        157 non-null    object \n",
      " 1   Region                         157 non-null    object \n",
      " 2   Happiness Rank                 157 non-null    int64  \n",
      " 3   Happiness Score                157 non-null    float64\n",
      " 4   Lower Confidence Interval      157 non-null    float64\n",
      " 5   Upper Confidence Interval      157 non-null    float64\n",
      " 6   Economy (GDP per Capita)       157 non-null    float64\n",
      " 7   Family                         157 non-null    float64\n",
      " 8   Health (Life Expectancy)       157 non-null    float64\n",
      " 9   Freedom                        157 non-null    float64\n",
      " 10  Trust (Government Corruption)  157 non-null    float64\n",
      " 11  Generosity                     157 non-null    float64\n",
      " 12  Dystopia Residual              157 non-null    float64\n",
      "dtypes: float64(10), int64(1), object(2)\n",
      "memory usage: 16.1+ KB\n"
     ]
    }
   ],
   "source": [
    "whr_16.info()"
   ]
  },
  {
   "cell_type": "code",
   "execution_count": 59,
   "metadata": {
    "scrolled": false
   },
   "outputs": [
    {
     "name": "stdout",
     "output_type": "stream",
     "text": [
      "<class 'pandas.core.frame.DataFrame'>\n",
      "RangeIndex: 155 entries, 0 to 154\n",
      "Data columns (total 12 columns):\n",
      " #   Column                         Non-Null Count  Dtype  \n",
      "---  ------                         --------------  -----  \n",
      " 0   Country                        155 non-null    object \n",
      " 1   Happiness.Rank                 155 non-null    int64  \n",
      " 2   Happiness.Score                155 non-null    float64\n",
      " 3   Whisker.high                   155 non-null    float64\n",
      " 4   Whisker.low                    155 non-null    float64\n",
      " 5   Economy..GDP.per.Capita.       155 non-null    float64\n",
      " 6   Family                         155 non-null    float64\n",
      " 7   Health..Life.Expectancy.       155 non-null    float64\n",
      " 8   Freedom                        155 non-null    float64\n",
      " 9   Generosity                     155 non-null    float64\n",
      " 10  Trust..Government.Corruption.  155 non-null    float64\n",
      " 11  Dystopia.Residual              155 non-null    float64\n",
      "dtypes: float64(10), int64(1), object(1)\n",
      "memory usage: 14.7+ KB\n"
     ]
    }
   ],
   "source": [
    "whr_17.info()"
   ]
  },
  {
   "cell_type": "code",
   "execution_count": 60,
   "metadata": {},
   "outputs": [],
   "source": [
    "#region, whisker high, whisker low, lower ci, upper ci, "
   ]
  },
  {
   "cell_type": "code",
   "execution_count": 61,
   "metadata": {},
   "outputs": [
    {
     "name": "stdout",
     "output_type": "stream",
     "text": [
      "<class 'pandas.core.frame.DataFrame'>\n",
      "RangeIndex: 156 entries, 0 to 155\n",
      "Data columns (total 9 columns):\n",
      " #   Column                        Non-Null Count  Dtype  \n",
      "---  ------                        --------------  -----  \n",
      " 0   Overall rank                  156 non-null    int64  \n",
      " 1   Country or region             156 non-null    object \n",
      " 2   Score                         156 non-null    float64\n",
      " 3   GDP per capita                156 non-null    float64\n",
      " 4   Social support                156 non-null    float64\n",
      " 5   Healthy life expectancy       156 non-null    float64\n",
      " 6   Freedom to make life choices  156 non-null    float64\n",
      " 7   Generosity                    156 non-null    float64\n",
      " 8   Perceptions of corruption     155 non-null    float64\n",
      "dtypes: float64(7), int64(1), object(1)\n",
      "memory usage: 11.1+ KB\n"
     ]
    }
   ],
   "source": [
    "whr_18.info()"
   ]
  },
  {
   "cell_type": "code",
   "execution_count": 62,
   "metadata": {},
   "outputs": [
    {
     "name": "stdout",
     "output_type": "stream",
     "text": [
      "<class 'pandas.core.frame.DataFrame'>\n",
      "RangeIndex: 156 entries, 0 to 155\n",
      "Data columns (total 9 columns):\n",
      " #   Column                        Non-Null Count  Dtype  \n",
      "---  ------                        --------------  -----  \n",
      " 0   Overall rank                  156 non-null    int64  \n",
      " 1   Country or region             156 non-null    object \n",
      " 2   Score                         156 non-null    float64\n",
      " 3   GDP per capita                156 non-null    float64\n",
      " 4   Social support                156 non-null    float64\n",
      " 5   Healthy life expectancy       156 non-null    float64\n",
      " 6   Freedom to make life choices  156 non-null    float64\n",
      " 7   Generosity                    156 non-null    float64\n",
      " 8   Perceptions of corruption     156 non-null    float64\n",
      "dtypes: float64(7), int64(1), object(1)\n",
      "memory usage: 11.1+ KB\n"
     ]
    }
   ],
   "source": [
    "whr_19.info()"
   ]
  },
  {
   "cell_type": "markdown",
   "metadata": {},
   "source": [
    "I will drop the columns that are not consistent in all datasets."
   ]
  },
  {
   "cell_type": "code",
   "execution_count": 63,
   "metadata": {},
   "outputs": [],
   "source": [
    "whr_15.drop(['Standard Error', 'Region', 'Dystopia Residual'], axis=1, inplace=True)\n",
    "\n",
    "whr_16.drop(['Lower Confidence Interval', 'Upper Confidence Interval', 'Region', 'Dystopia Residual'], axis=1, inplace=True)\n",
    "\n",
    "whr_17.drop(columns=['Whisker.high', 'Whisker.low', 'Dystopia.Residual'], inplace=True)"
   ]
  },
  {
   "cell_type": "code",
   "execution_count": 64,
   "metadata": {},
   "outputs": [
    {
     "data": {
      "text/plain": [
       "Overall rank                    0\n",
       "Country or region               0\n",
       "Score                           0\n",
       "GDP per capita                  0\n",
       "Social support                  0\n",
       "Healthy life expectancy         0\n",
       "Freedom to make life choices    0\n",
       "Generosity                      0\n",
       "Perceptions of corruption       1\n",
       "dtype: int64"
      ]
     },
     "execution_count": 64,
     "metadata": {},
     "output_type": "execute_result"
    }
   ],
   "source": [
    "whr_18.isnull().sum()"
   ]
  },
  {
   "cell_type": "code",
   "execution_count": 65,
   "metadata": {},
   "outputs": [
    {
     "name": "stdout",
     "output_type": "stream",
     "text": [
      "0.08199999999999999\n"
     ]
    }
   ],
   "source": [
    "med = whr_18['Perceptions of corruption'].median()\n",
    "print(med)\n",
    "whr_18['Perceptions of corruption'].fillna(med, inplace=True)"
   ]
  },
  {
   "cell_type": "raw",
   "metadata": {},
   "source": [
    "#create year column\n",
    "whr_15['Year'] = '2015'\n",
    "whr_16['Year'] = '2016'\n",
    "whr_17['Year'] = '2017'\n",
    "whr_18['Year'] = '2018'\n",
    "whr_19['Year'] = '2019'"
   ]
  },
  {
   "cell_type": "markdown",
   "metadata": {},
   "source": [
    "I will rearrange the order of the columns using the 2018 and 2019 format."
   ]
  },
  {
   "cell_type": "code",
   "execution_count": 66,
   "metadata": {},
   "outputs": [],
   "source": [
    "whr_15 = whr_15[['Happiness Rank', 'Country', 'Happiness Score', 'Economy (GDP per Capita)', \n",
    "                 'Family', 'Health (Life Expectancy)', 'Freedom','Generosity', 'Trust (Government Corruption)']]\n",
    "whr_16 = whr_16[['Happiness Rank', 'Country', 'Happiness Score', 'Economy (GDP per Capita)', \n",
    "                 'Family', 'Health (Life Expectancy)', 'Freedom','Generosity', 'Trust (Government Corruption)']]\n",
    "whr_17 = whr_17[['Happiness.Rank', 'Country', 'Happiness.Score', 'Economy..GDP.per.Capita.', \n",
    "                 'Family', 'Health..Life.Expectancy.', 'Freedom','Generosity', 'Trust..Government.Corruption.']]"
   ]
  },
  {
   "cell_type": "markdown",
   "metadata": {},
   "source": [
    "Renaming the columns"
   ]
  },
  {
   "cell_type": "code",
   "execution_count": 67,
   "metadata": {},
   "outputs": [],
   "source": [
    "new_cols = ['Happiness Rank', 'Country', 'Happiness Score', 'GDP per capita', 'Social Support', \n",
    "            'Healthy Life Expectancy', 'Freedom to Make Life Choices', 'Generosity', 'Perceptions of Corruption']"
   ]
  },
  {
   "cell_type": "code",
   "execution_count": 68,
   "metadata": {},
   "outputs": [
    {
     "name": "stdout",
     "output_type": "stream",
     "text": [
      "Index(['Happiness Rank', 'Country', 'Happiness Score', 'GDP per capita',\n",
      "       'Social Support', 'Healthy Life Expectancy',\n",
      "       'Freedom to Make Life Choices', 'Generosity',\n",
      "       'Perceptions of Corruption'],\n",
      "      dtype='object')\n",
      "Index(['Happiness Rank', 'Country', 'Happiness Score', 'GDP per capita',\n",
      "       'Social Support', 'Healthy Life Expectancy',\n",
      "       'Freedom to Make Life Choices', 'Generosity',\n",
      "       'Perceptions of Corruption'],\n",
      "      dtype='object')\n",
      "Index(['Happiness Rank', 'Country', 'Happiness Score', 'GDP per capita',\n",
      "       'Social Support', 'Healthy Life Expectancy',\n",
      "       'Freedom to Make Life Choices', 'Generosity',\n",
      "       'Perceptions of Corruption'],\n",
      "      dtype='object')\n",
      "Index(['Happiness Rank', 'Country', 'Happiness Score', 'GDP per capita',\n",
      "       'Social Support', 'Healthy Life Expectancy',\n",
      "       'Freedom to Make Life Choices', 'Generosity',\n",
      "       'Perceptions of Corruption'],\n",
      "      dtype='object')\n",
      "Index(['Happiness Rank', 'Country', 'Happiness Score', 'GDP per capita',\n",
      "       'Social Support', 'Healthy Life Expectancy',\n",
      "       'Freedom to Make Life Choices', 'Generosity',\n",
      "       'Perceptions of Corruption'],\n",
      "      dtype='object')\n"
     ]
    }
   ],
   "source": [
    "data = [whr_15, whr_16, whr_17, whr_18, whr_19]\n",
    "for each in data:\n",
    "    each.columns = new_cols\n",
    "    print(each.columns)"
   ]
  },
  {
   "cell_type": "code",
   "execution_count": 69,
   "metadata": {},
   "outputs": [
    {
     "name": "stdout",
     "output_type": "stream",
     "text": [
      "Index(['Happiness Rank', 'Country', 'Happiness Score', 'GDP per capita',\n",
      "       'Social Support', 'Healthy Life Expectancy',\n",
      "       'Freedom to Make Life Choices', 'Generosity',\n",
      "       'Perceptions of Corruption'],\n",
      "      dtype='object')\n",
      "Index(['Happiness Rank', 'Country', 'Happiness Score', 'GDP per capita',\n",
      "       'Social Support', 'Healthy Life Expectancy',\n",
      "       'Freedom to Make Life Choices', 'Generosity',\n",
      "       'Perceptions of Corruption'],\n",
      "      dtype='object')\n",
      "Index(['Happiness Rank', 'Country', 'Happiness Score', 'GDP per capita',\n",
      "       'Social Support', 'Healthy Life Expectancy',\n",
      "       'Freedom to Make Life Choices', 'Generosity',\n",
      "       'Perceptions of Corruption'],\n",
      "      dtype='object')\n",
      "Index(['Happiness Rank', 'Country', 'Happiness Score', 'GDP per capita',\n",
      "       'Social Support', 'Healthy Life Expectancy',\n",
      "       'Freedom to Make Life Choices', 'Generosity',\n",
      "       'Perceptions of Corruption'],\n",
      "      dtype='object')\n",
      "Index(['Happiness Rank', 'Country', 'Happiness Score', 'GDP per capita',\n",
      "       'Social Support', 'Healthy Life Expectancy',\n",
      "       'Freedom to Make Life Choices', 'Generosity',\n",
      "       'Perceptions of Corruption'],\n",
      "      dtype='object')\n"
     ]
    }
   ],
   "source": [
    "for each in data:\n",
    "    print(each.columns)"
   ]
  },
  {
   "cell_type": "code",
   "execution_count": 70,
   "metadata": {},
   "outputs": [
    {
     "data": {
      "text/html": [
       "<div>\n",
       "<style scoped>\n",
       "    .dataframe tbody tr th:only-of-type {\n",
       "        vertical-align: middle;\n",
       "    }\n",
       "\n",
       "    .dataframe tbody tr th {\n",
       "        vertical-align: top;\n",
       "    }\n",
       "\n",
       "    .dataframe thead th {\n",
       "        text-align: right;\n",
       "    }\n",
       "</style>\n",
       "<table border=\"1\" class=\"dataframe\">\n",
       "  <thead>\n",
       "    <tr style=\"text-align: right;\">\n",
       "      <th></th>\n",
       "      <th>Happiness Rank</th>\n",
       "      <th>Country</th>\n",
       "      <th>Happiness Score</th>\n",
       "      <th>GDP per capita</th>\n",
       "      <th>Social Support</th>\n",
       "      <th>Healthy Life Expectancy</th>\n",
       "      <th>Freedom to Make Life Choices</th>\n",
       "      <th>Generosity</th>\n",
       "      <th>Perceptions of Corruption</th>\n",
       "    </tr>\n",
       "  </thead>\n",
       "  <tbody>\n",
       "    <tr>\n",
       "      <th>120</th>\n",
       "      <td>121</td>\n",
       "      <td>Kenya</td>\n",
       "      <td>4.509</td>\n",
       "      <td>0.512</td>\n",
       "      <td>0.983</td>\n",
       "      <td>0.581</td>\n",
       "      <td>0.431</td>\n",
       "      <td>0.372</td>\n",
       "      <td>0.053</td>\n",
       "    </tr>\n",
       "  </tbody>\n",
       "</table>\n",
       "</div>"
      ],
      "text/plain": [
       "     Happiness Rank Country  Happiness Score  GDP per capita  Social Support  \\\n",
       "120             121   Kenya            4.509           0.512           0.983   \n",
       "\n",
       "     Healthy Life Expectancy  Freedom to Make Life Choices  Generosity  \\\n",
       "120                    0.581                         0.431       0.372   \n",
       "\n",
       "     Perceptions of Corruption  \n",
       "120                      0.053  "
      ]
     },
     "execution_count": 70,
     "metadata": {},
     "output_type": "execute_result"
    }
   ],
   "source": [
    "whr_19[whr_19['Country'] == 'Kenya']"
   ]
  },
  {
   "cell_type": "code",
   "execution_count": 71,
   "metadata": {},
   "outputs": [
    {
     "data": {
      "text/html": [
       "<div>\n",
       "<style scoped>\n",
       "    .dataframe tbody tr th:only-of-type {\n",
       "        vertical-align: middle;\n",
       "    }\n",
       "\n",
       "    .dataframe tbody tr th {\n",
       "        vertical-align: top;\n",
       "    }\n",
       "\n",
       "    .dataframe thead th {\n",
       "        text-align: right;\n",
       "    }\n",
       "</style>\n",
       "<table border=\"1\" class=\"dataframe\">\n",
       "  <thead>\n",
       "    <tr style=\"text-align: right;\">\n",
       "      <th></th>\n",
       "      <th>Happiness Rank</th>\n",
       "      <th>Country</th>\n",
       "      <th>Happiness Score</th>\n",
       "      <th>GDP per capita</th>\n",
       "      <th>Social Support</th>\n",
       "      <th>Healthy Life Expectancy</th>\n",
       "      <th>Freedom to Make Life Choices</th>\n",
       "      <th>Generosity</th>\n",
       "      <th>Perceptions of Corruption</th>\n",
       "    </tr>\n",
       "  </thead>\n",
       "  <tbody>\n",
       "    <tr>\n",
       "      <th>3</th>\n",
       "      <td>4</td>\n",
       "      <td>Norway</td>\n",
       "      <td>7.522</td>\n",
       "      <td>1.459000</td>\n",
       "      <td>1.330950</td>\n",
       "      <td>0.88521</td>\n",
       "      <td>0.669730</td>\n",
       "      <td>0.346990</td>\n",
       "      <td>0.365030</td>\n",
       "    </tr>\n",
       "    <tr>\n",
       "      <th>10</th>\n",
       "      <td>11</td>\n",
       "      <td>Israel</td>\n",
       "      <td>7.278</td>\n",
       "      <td>1.228570</td>\n",
       "      <td>1.223930</td>\n",
       "      <td>0.91387</td>\n",
       "      <td>0.413190</td>\n",
       "      <td>0.331720</td>\n",
       "      <td>0.077850</td>\n",
       "    </tr>\n",
       "    <tr>\n",
       "      <th>26</th>\n",
       "      <td>27</td>\n",
       "      <td>Chile</td>\n",
       "      <td>6.670</td>\n",
       "      <td>1.107150</td>\n",
       "      <td>1.124470</td>\n",
       "      <td>0.85857</td>\n",
       "      <td>0.441320</td>\n",
       "      <td>0.333630</td>\n",
       "      <td>0.128690</td>\n",
       "    </tr>\n",
       "    <tr>\n",
       "      <th>140</th>\n",
       "      <td>141</td>\n",
       "      <td>Uganda</td>\n",
       "      <td>3.931</td>\n",
       "      <td>0.211020</td>\n",
       "      <td>1.132990</td>\n",
       "      <td>0.33861</td>\n",
       "      <td>0.457270</td>\n",
       "      <td>0.290660</td>\n",
       "      <td>0.072670</td>\n",
       "    </tr>\n",
       "    <tr>\n",
       "      <th>56</th>\n",
       "      <td>57</td>\n",
       "      <td>Poland</td>\n",
       "      <td>5.835</td>\n",
       "      <td>1.245850</td>\n",
       "      <td>1.046850</td>\n",
       "      <td>0.69058</td>\n",
       "      <td>0.451900</td>\n",
       "      <td>0.144430</td>\n",
       "      <td>0.055000</td>\n",
       "    </tr>\n",
       "    <tr>\n",
       "      <th>69</th>\n",
       "      <td>70</td>\n",
       "      <td>Serbia</td>\n",
       "      <td>5.603</td>\n",
       "      <td>1.004000</td>\n",
       "      <td>1.383000</td>\n",
       "      <td>0.85400</td>\n",
       "      <td>0.282000</td>\n",
       "      <td>0.137000</td>\n",
       "      <td>0.039000</td>\n",
       "    </tr>\n",
       "    <tr>\n",
       "      <th>18</th>\n",
       "      <td>19</td>\n",
       "      <td>Belgium</td>\n",
       "      <td>6.937</td>\n",
       "      <td>1.307820</td>\n",
       "      <td>1.285660</td>\n",
       "      <td>0.89667</td>\n",
       "      <td>0.584500</td>\n",
       "      <td>0.222500</td>\n",
       "      <td>0.225400</td>\n",
       "    </tr>\n",
       "    <tr>\n",
       "      <th>139</th>\n",
       "      <td>140</td>\n",
       "      <td>Cambodia</td>\n",
       "      <td>3.907</td>\n",
       "      <td>0.556040</td>\n",
       "      <td>0.537500</td>\n",
       "      <td>0.42494</td>\n",
       "      <td>0.588520</td>\n",
       "      <td>0.403390</td>\n",
       "      <td>0.080920</td>\n",
       "    </tr>\n",
       "    <tr>\n",
       "      <th>98</th>\n",
       "      <td>99</td>\n",
       "      <td>Ivory Coast</td>\n",
       "      <td>4.944</td>\n",
       "      <td>0.569000</td>\n",
       "      <td>0.808000</td>\n",
       "      <td>0.23200</td>\n",
       "      <td>0.352000</td>\n",
       "      <td>0.154000</td>\n",
       "      <td>0.090000</td>\n",
       "    </tr>\n",
       "    <tr>\n",
       "      <th>25</th>\n",
       "      <td>26</td>\n",
       "      <td>Taiwan</td>\n",
       "      <td>6.441</td>\n",
       "      <td>1.365000</td>\n",
       "      <td>1.436000</td>\n",
       "      <td>0.85700</td>\n",
       "      <td>0.418000</td>\n",
       "      <td>0.151000</td>\n",
       "      <td>0.078000</td>\n",
       "    </tr>\n",
       "    <tr>\n",
       "      <th>114</th>\n",
       "      <td>115</td>\n",
       "      <td>Zimbabwe</td>\n",
       "      <td>4.610</td>\n",
       "      <td>0.271000</td>\n",
       "      <td>1.032760</td>\n",
       "      <td>0.33475</td>\n",
       "      <td>0.258610</td>\n",
       "      <td>0.189870</td>\n",
       "      <td>0.080790</td>\n",
       "    </tr>\n",
       "    <tr>\n",
       "      <th>122</th>\n",
       "      <td>123</td>\n",
       "      <td>Mozambique</td>\n",
       "      <td>4.466</td>\n",
       "      <td>0.204000</td>\n",
       "      <td>0.986000</td>\n",
       "      <td>0.39000</td>\n",
       "      <td>0.494000</td>\n",
       "      <td>0.197000</td>\n",
       "      <td>0.138000</td>\n",
       "    </tr>\n",
       "    <tr>\n",
       "      <th>51</th>\n",
       "      <td>52</td>\n",
       "      <td>Lithuania</td>\n",
       "      <td>5.902</td>\n",
       "      <td>1.314582</td>\n",
       "      <td>1.473516</td>\n",
       "      <td>0.62895</td>\n",
       "      <td>0.234232</td>\n",
       "      <td>0.010165</td>\n",
       "      <td>0.011866</td>\n",
       "    </tr>\n",
       "    <tr>\n",
       "      <th>137</th>\n",
       "      <td>138</td>\n",
       "      <td>Zambia</td>\n",
       "      <td>4.107</td>\n",
       "      <td>0.578000</td>\n",
       "      <td>1.058000</td>\n",
       "      <td>0.42600</td>\n",
       "      <td>0.431000</td>\n",
       "      <td>0.247000</td>\n",
       "      <td>0.087000</td>\n",
       "    </tr>\n",
       "    <tr>\n",
       "      <th>37</th>\n",
       "      <td>38</td>\n",
       "      <td>Slovakia</td>\n",
       "      <td>6.198</td>\n",
       "      <td>1.246000</td>\n",
       "      <td>1.504000</td>\n",
       "      <td>0.88100</td>\n",
       "      <td>0.334000</td>\n",
       "      <td>0.121000</td>\n",
       "      <td>0.014000</td>\n",
       "    </tr>\n",
       "    <tr>\n",
       "      <th>27</th>\n",
       "      <td>28</td>\n",
       "      <td>Qatar</td>\n",
       "      <td>6.611</td>\n",
       "      <td>1.690420</td>\n",
       "      <td>1.078600</td>\n",
       "      <td>0.79733</td>\n",
       "      <td>0.640400</td>\n",
       "      <td>0.325730</td>\n",
       "      <td>0.522080</td>\n",
       "    </tr>\n",
       "    <tr>\n",
       "      <th>36</th>\n",
       "      <td>37</td>\n",
       "      <td>Spain</td>\n",
       "      <td>6.361</td>\n",
       "      <td>1.342530</td>\n",
       "      <td>1.129450</td>\n",
       "      <td>0.87896</td>\n",
       "      <td>0.375450</td>\n",
       "      <td>0.176650</td>\n",
       "      <td>0.061370</td>\n",
       "    </tr>\n",
       "    <tr>\n",
       "      <th>78</th>\n",
       "      <td>79</td>\n",
       "      <td>Bhutan</td>\n",
       "      <td>5.253</td>\n",
       "      <td>0.770420</td>\n",
       "      <td>1.103950</td>\n",
       "      <td>0.57407</td>\n",
       "      <td>0.532060</td>\n",
       "      <td>0.479980</td>\n",
       "      <td>0.154450</td>\n",
       "    </tr>\n",
       "    <tr>\n",
       "      <th>41</th>\n",
       "      <td>42</td>\n",
       "      <td>Poland</td>\n",
       "      <td>6.123</td>\n",
       "      <td>1.176000</td>\n",
       "      <td>1.448000</td>\n",
       "      <td>0.78100</td>\n",
       "      <td>0.546000</td>\n",
       "      <td>0.108000</td>\n",
       "      <td>0.064000</td>\n",
       "    </tr>\n",
       "    <tr>\n",
       "      <th>34</th>\n",
       "      <td>35</td>\n",
       "      <td>El Salvador</td>\n",
       "      <td>6.253</td>\n",
       "      <td>0.794000</td>\n",
       "      <td>1.242000</td>\n",
       "      <td>0.78900</td>\n",
       "      <td>0.430000</td>\n",
       "      <td>0.093000</td>\n",
       "      <td>0.074000</td>\n",
       "    </tr>\n",
       "  </tbody>\n",
       "</table>\n",
       "</div>"
      ],
      "text/plain": [
       "     Happiness Rank      Country  Happiness Score  GDP per capita  \\\n",
       "3                 4       Norway            7.522        1.459000   \n",
       "10               11       Israel            7.278        1.228570   \n",
       "26               27        Chile            6.670        1.107150   \n",
       "140             141       Uganda            3.931        0.211020   \n",
       "56               57       Poland            5.835        1.245850   \n",
       "69               70       Serbia            5.603        1.004000   \n",
       "18               19      Belgium            6.937        1.307820   \n",
       "139             140     Cambodia            3.907        0.556040   \n",
       "98               99  Ivory Coast            4.944        0.569000   \n",
       "25               26       Taiwan            6.441        1.365000   \n",
       "114             115     Zimbabwe            4.610        0.271000   \n",
       "122             123   Mozambique            4.466        0.204000   \n",
       "51               52    Lithuania            5.902        1.314582   \n",
       "137             138       Zambia            4.107        0.578000   \n",
       "37               38     Slovakia            6.198        1.246000   \n",
       "27               28        Qatar            6.611        1.690420   \n",
       "36               37        Spain            6.361        1.342530   \n",
       "78               79       Bhutan            5.253        0.770420   \n",
       "41               42       Poland            6.123        1.176000   \n",
       "34               35  El Salvador            6.253        0.794000   \n",
       "\n",
       "     Social Support  Healthy Life Expectancy  Freedom to Make Life Choices  \\\n",
       "3          1.330950                  0.88521                      0.669730   \n",
       "10         1.223930                  0.91387                      0.413190   \n",
       "26         1.124470                  0.85857                      0.441320   \n",
       "140        1.132990                  0.33861                      0.457270   \n",
       "56         1.046850                  0.69058                      0.451900   \n",
       "69         1.383000                  0.85400                      0.282000   \n",
       "18         1.285660                  0.89667                      0.584500   \n",
       "139        0.537500                  0.42494                      0.588520   \n",
       "98         0.808000                  0.23200                      0.352000   \n",
       "25         1.436000                  0.85700                      0.418000   \n",
       "114        1.032760                  0.33475                      0.258610   \n",
       "122        0.986000                  0.39000                      0.494000   \n",
       "51         1.473516                  0.62895                      0.234232   \n",
       "137        1.058000                  0.42600                      0.431000   \n",
       "37         1.504000                  0.88100                      0.334000   \n",
       "27         1.078600                  0.79733                      0.640400   \n",
       "36         1.129450                  0.87896                      0.375450   \n",
       "78         1.103950                  0.57407                      0.532060   \n",
       "41         1.448000                  0.78100                      0.546000   \n",
       "34         1.242000                  0.78900                      0.430000   \n",
       "\n",
       "     Generosity  Perceptions of Corruption  \n",
       "3      0.346990                   0.365030  \n",
       "10     0.331720                   0.077850  \n",
       "26     0.333630                   0.128690  \n",
       "140    0.290660                   0.072670  \n",
       "56     0.144430                   0.055000  \n",
       "69     0.137000                   0.039000  \n",
       "18     0.222500                   0.225400  \n",
       "139    0.403390                   0.080920  \n",
       "98     0.154000                   0.090000  \n",
       "25     0.151000                   0.078000  \n",
       "114    0.189870                   0.080790  \n",
       "122    0.197000                   0.138000  \n",
       "51     0.010165                   0.011866  \n",
       "137    0.247000                   0.087000  \n",
       "37     0.121000                   0.014000  \n",
       "27     0.325730                   0.522080  \n",
       "36     0.176650                   0.061370  \n",
       "78     0.479980                   0.154450  \n",
       "41     0.108000                   0.064000  \n",
       "34     0.093000                   0.074000  "
      ]
     },
     "execution_count": 71,
     "metadata": {},
     "output_type": "execute_result"
    }
   ],
   "source": [
    "#concatenate all the data\n",
    "whr = pd.concat(data)\n",
    "whr.sample(20)"
   ]
  },
  {
   "cell_type": "code",
   "execution_count": 72,
   "metadata": {},
   "outputs": [
    {
     "data": {
      "text/plain": [
       "Happiness Rank                  0\n",
       "Country                         0\n",
       "Happiness Score                 0\n",
       "GDP per capita                  0\n",
       "Social Support                  0\n",
       "Healthy Life Expectancy         0\n",
       "Freedom to Make Life Choices    0\n",
       "Generosity                      0\n",
       "Perceptions of Corruption       0\n",
       "dtype: int64"
      ]
     },
     "execution_count": 72,
     "metadata": {},
     "output_type": "execute_result"
    }
   ],
   "source": [
    "whr.isnull().sum()"
   ]
  },
  {
   "cell_type": "code",
   "execution_count": 73,
   "metadata": {},
   "outputs": [
    {
     "data": {
      "text/plain": [
       "0"
      ]
     },
     "execution_count": 73,
     "metadata": {},
     "output_type": "execute_result"
    }
   ],
   "source": [
    "whr.duplicated().sum()"
   ]
  },
  {
   "cell_type": "code",
   "execution_count": null,
   "metadata": {},
   "outputs": [],
   "source": []
  }
 ],
 "metadata": {
  "kernelspec": {
   "display_name": "Python 3",
   "language": "python",
   "name": "python3"
  },
  "language_info": {
   "codemirror_mode": {
    "name": "ipython",
    "version": 3
   },
   "file_extension": ".py",
   "mimetype": "text/x-python",
   "name": "python",
   "nbconvert_exporter": "python",
   "pygments_lexer": "ipython3",
   "version": "3.7.6"
  }
 },
 "nbformat": 4,
 "nbformat_minor": 4
}
